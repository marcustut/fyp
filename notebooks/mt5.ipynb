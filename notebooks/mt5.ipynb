{
 "cells": [
  {
   "cell_type": "markdown",
   "metadata": {},
   "source": [
    "# Abstractive Text Summarization Using T5\n",
    "_By Ling Li Ya_\n",
    "\n",
    "References:\n",
    "1. [Exploring the Limits of Transfer Learning with a Unified\n",
    "Text-to-Text Transformer](https://arxiv.org/abs/1910.10683)\n",
    "2. [Truecasing in Natural Language Processing](https://towardsdatascience.com/truecasing-in-natural-language-processing-12c4df086c21)\n",
    "3. [POS Tag List Reference](https://stackoverflow.com/questions/29332851/what-does-nn-vbd-in-dt-nns-rb-means-in-nltk)"
   ]
  },
  {
   "cell_type": "markdown",
   "metadata": {},
   "source": [
    "## 1. Install and Import Dependencies\n",
    "Install `pytorch`"
   ]
  },
  {
   "cell_type": "code",
   "execution_count": 7,
   "metadata": {},
   "outputs": [
    {
     "name": "stdout",
     "output_type": "stream",
     "text": [
      "Looking in links: https://download.pytorch.org/whl/torch_stable.html\n",
      "Requirement already satisfied: torch==1.9.0+cu111 in c:\\users\\liana\\appdata\\local\\programs\\python\\python38\\lib\\site-packages (1.9.0+cu111)\n",
      "Requirement already satisfied: torchvision==0.10.0+cu111 in c:\\users\\liana\\appdata\\local\\programs\\python\\python38\\lib\\site-packages (0.10.0+cu111)\n",
      "Requirement already satisfied: torchaudio==0.9.0 in c:\\users\\liana\\appdata\\local\\programs\\python\\python38\\lib\\site-packages (0.9.0)\n",
      "Requirement already satisfied: typing-extensions in c:\\users\\liana\\appdata\\local\\programs\\python\\python38\\lib\\site-packages (from torch==1.9.0+cu111) (3.7.4.3)\n",
      "Requirement already satisfied: pillow>=5.3.0 in c:\\users\\liana\\appdata\\local\\programs\\python\\python38\\lib\\site-packages (from torchvision==0.10.0+cu111) (8.3.1)\n",
      "Requirement already satisfied: numpy in c:\\users\\liana\\appdata\\local\\programs\\python\\python38\\lib\\site-packages (from torchvision==0.10.0+cu111) (1.19.5)\n"
     ]
    },
    {
     "name": "stderr",
     "output_type": "stream",
     "text": [
      "WARNING: You are using pip version 21.2.4; however, version 21.3 is available.\n",
      "You should consider upgrading via the 'C:\\Users\\liana\\AppData\\Local\\Programs\\Python\\Python38\\python.exe -m pip install --upgrade pip' command.\n"
     ]
    }
   ],
   "source": [
    "!pip3 install torch==1.9.0+cu111 torchvision==0.10.0+cu111 torchaudio==0.9.0 -f https://download.pytorch.org/whl/torch_stable.html"
   ]
  },
  {
   "cell_type": "markdown",
   "metadata": {},
   "source": [
    "Install `transformers` to use its `summarization pipeline`"
   ]
  },
  {
   "cell_type": "code",
   "execution_count": 8,
   "metadata": {},
   "outputs": [
    {
     "name": "stdout",
     "output_type": "stream",
     "text": [
      "Requirement already satisfied: transformers in c:\\users\\liana\\appdata\\local\\programs\\python\\python38\\lib\\site-packages (4.10.0)\n",
      "Requirement already satisfied: packaging in c:\\users\\liana\\appdata\\local\\programs\\python\\python38\\lib\\site-packages (from transformers) (21.0)\n",
      "Requirement already satisfied: numpy>=1.17 in c:\\users\\liana\\appdata\\local\\programs\\python\\python38\\lib\\site-packages (from transformers) (1.19.5)\n",
      "Requirement already satisfied: sacremoses in c:\\users\\liana\\appdata\\local\\programs\\python\\python38\\lib\\site-packages (from transformers) (0.0.45)\n",
      "Requirement already satisfied: pyyaml>=5.1 in c:\\users\\liana\\appdata\\local\\programs\\python\\python38\\lib\\site-packages (from transformers) (5.4.1)\n",
      "Requirement already satisfied: requests in c:\\users\\liana\\appdata\\local\\programs\\python\\python38\\lib\\site-packages (from transformers) (2.26.0)\n",
      "Requirement already satisfied: regex!=2019.12.17 in c:\\users\\liana\\appdata\\local\\programs\\python\\python38\\lib\\site-packages (from transformers) (2021.8.3)\n",
      "Requirement already satisfied: tqdm>=4.27 in c:\\users\\liana\\appdata\\local\\programs\\python\\python38\\lib\\site-packages (from transformers) (4.62.1)\n",
      "Requirement already satisfied: tokenizers<0.11,>=0.10.1 in c:\\users\\liana\\appdata\\local\\programs\\python\\python38\\lib\\site-packages (from transformers) (0.10.3)\n",
      "Requirement already satisfied: filelock in c:\\users\\liana\\appdata\\local\\programs\\python\\python38\\lib\\site-packages (from transformers) (3.0.12)\n",
      "Requirement already satisfied: huggingface-hub>=0.0.12 in c:\\users\\liana\\appdata\\local\\programs\\python\\python38\\lib\\site-packages (from transformers) (0.0.19)\n",
      "Requirement already satisfied: typing-extensions in c:\\users\\liana\\appdata\\local\\programs\\python\\python38\\lib\\site-packages (from huggingface-hub>=0.0.12->transformers) (3.7.4.3)\n",
      "Requirement already satisfied: pyparsing>=2.0.2 in c:\\users\\liana\\appdata\\local\\programs\\python\\python38\\lib\\site-packages (from packaging->transformers) (2.4.7)\n",
      "Requirement already satisfied: colorama in c:\\users\\liana\\appdata\\local\\programs\\python\\python38\\lib\\site-packages (from tqdm>=4.27->transformers) (0.4.4)\n",
      "Requirement already satisfied: certifi>=2017.4.17 in c:\\users\\liana\\appdata\\local\\programs\\python\\python38\\lib\\site-packages (from requests->transformers) (2021.5.30)\n",
      "Requirement already satisfied: idna<4,>=2.5 in c:\\users\\liana\\appdata\\local\\programs\\python\\python38\\lib\\site-packages (from requests->transformers) (3.2)\n",
      "Requirement already satisfied: urllib3<1.27,>=1.21.1 in c:\\users\\liana\\appdata\\local\\programs\\python\\python38\\lib\\site-packages (from requests->transformers) (1.26.6)\n",
      "Requirement already satisfied: charset-normalizer~=2.0.0 in c:\\users\\liana\\appdata\\local\\programs\\python\\python38\\lib\\site-packages (from requests->transformers) (2.0.4)\n",
      "Requirement already satisfied: six in c:\\users\\liana\\appdata\\local\\programs\\python\\python38\\lib\\site-packages (from sacremoses->transformers) (1.15.0)\n",
      "Requirement already satisfied: click in c:\\users\\liana\\appdata\\local\\programs\\python\\python38\\lib\\site-packages (from sacremoses->transformers) (7.1.2)\n",
      "Requirement already satisfied: joblib in c:\\users\\liana\\appdata\\local\\programs\\python\\python38\\lib\\site-packages (from sacremoses->transformers) (1.0.1)\n"
     ]
    },
    {
     "name": "stderr",
     "output_type": "stream",
     "text": [
      "WARNING: You are using pip version 21.2.4; however, version 21.3 is available.\n",
      "You should consider upgrading via the 'C:\\Users\\liana\\AppData\\Local\\Programs\\Python\\Python38\\python.exe -m pip install --upgrade pip' command.\n"
     ]
    }
   ],
   "source": [
    "!pip install transformers"
   ]
  },
  {
   "cell_type": "markdown",
   "metadata": {},
   "source": [
    "Install `bs4` to use `BeautifulSoup`"
   ]
  },
  {
   "cell_type": "code",
   "execution_count": 9,
   "metadata": {},
   "outputs": [
    {
     "name": "stdout",
     "output_type": "stream",
     "text": [
      "Requirement already satisfied: bs4 in c:\\users\\liana\\appdata\\local\\programs\\python\\python38\\lib\\site-packages (0.0.1)\n",
      "Requirement already satisfied: beautifulsoup4 in c:\\users\\liana\\appdata\\local\\programs\\python\\python38\\lib\\site-packages (from bs4) (4.9.3)\n",
      "Requirement already satisfied: soupsieve>1.2 in c:\\users\\liana\\appdata\\local\\programs\\python\\python38\\lib\\site-packages (from beautifulsoup4->bs4) (2.2.1)\n"
     ]
    },
    {
     "name": "stderr",
     "output_type": "stream",
     "text": [
      "WARNING: You are using pip version 21.2.4; however, version 21.3 is available.\n",
      "You should consider upgrading via the 'C:\\Users\\liana\\AppData\\Local\\Programs\\Python\\Python38\\python.exe -m pip install --upgrade pip' command.\n"
     ]
    }
   ],
   "source": [
    "!pip install bs4"
   ]
  },
  {
   "cell_type": "markdown",
   "metadata": {},
   "source": [
    "Install `standfordnlp` to use its `POS processor pipeline`"
   ]
  },
  {
   "cell_type": "code",
   "execution_count": 10,
   "metadata": {},
   "outputs": [
    {
     "name": "stdout",
     "output_type": "stream",
     "text": [
      "Requirement already satisfied: stanfordnlp in c:\\users\\liana\\appdata\\local\\programs\\python\\python38\\lib\\site-packages (0.2.0)\n",
      "Requirement already satisfied: requests in c:\\users\\liana\\appdata\\local\\programs\\python\\python38\\lib\\site-packages (from stanfordnlp) (2.26.0)\n",
      "Requirement already satisfied: torch>=1.0.0 in c:\\users\\liana\\appdata\\local\\programs\\python\\python38\\lib\\site-packages (from stanfordnlp) (1.9.0+cu111)\n",
      "Requirement already satisfied: tqdm in c:\\users\\liana\\appdata\\local\\programs\\python\\python38\\lib\\site-packages (from stanfordnlp) (4.62.1)\n",
      "Requirement already satisfied: protobuf in c:\\users\\liana\\appdata\\local\\programs\\python\\python38\\lib\\site-packages (from stanfordnlp) (3.17.3)\n",
      "Requirement already satisfied: numpy in c:\\users\\liana\\appdata\\local\\programs\\python\\python38\\lib\\site-packages (from stanfordnlp) (1.19.5)\n",
      "Requirement already satisfied: typing-extensions in c:\\users\\liana\\appdata\\local\\programs\\python\\python38\\lib\\site-packages (from torch>=1.0.0->stanfordnlp) (3.7.4.3)\n",
      "Requirement already satisfied: six>=1.9 in c:\\users\\liana\\appdata\\local\\programs\\python\\python38\\lib\\site-packages (from protobuf->stanfordnlp) (1.15.0)\n",
      "Requirement already satisfied: certifi>=2017.4.17 in c:\\users\\liana\\appdata\\local\\programs\\python\\python38\\lib\\site-packages (from requests->stanfordnlp) (2021.5.30)\n",
      "Requirement already satisfied: urllib3<1.27,>=1.21.1 in c:\\users\\liana\\appdata\\local\\programs\\python\\python38\\lib\\site-packages (from requests->stanfordnlp) (1.26.6)\n",
      "Requirement already satisfied: idna<4,>=2.5 in c:\\users\\liana\\appdata\\local\\programs\\python\\python38\\lib\\site-packages (from requests->stanfordnlp) (3.2)\n",
      "Requirement already satisfied: charset-normalizer~=2.0.0 in c:\\users\\liana\\appdata\\local\\programs\\python\\python38\\lib\\site-packages (from requests->stanfordnlp) (2.0.4)\n",
      "Requirement already satisfied: colorama in c:\\users\\liana\\appdata\\local\\programs\\python\\python38\\lib\\site-packages (from tqdm->stanfordnlp) (0.4.4)\n"
     ]
    },
    {
     "name": "stderr",
     "output_type": "stream",
     "text": [
      "WARNING: You are using pip version 21.2.4; however, version 21.3 is available.\n",
      "You should consider upgrading via the 'C:\\Users\\liana\\AppData\\Local\\Programs\\Python\\Python38\\python.exe -m pip install --upgrade pip' command.\n"
     ]
    }
   ],
   "source": [
    "!pip install stanfordnlp"
   ]
  },
  {
   "cell_type": "markdown",
   "metadata": {},
   "source": [
    "Import all dependencies"
   ]
  },
  {
   "cell_type": "code",
   "execution_count": 11,
   "metadata": {},
   "outputs": [],
   "source": [
    "from transformers import pipeline, MT5Model, T5Tokenizer\n",
    "from bs4 import BeautifulSoup\n",
    "import requests\n",
    "import stanfordnlp"
   ]
  },
  {
   "cell_type": "markdown",
   "metadata": {},
   "source": [
    "## 2. Setup Generator\n",
    "Get pipeline text summarization utility"
   ]
  },
  {
   "cell_type": "code",
   "execution_count": 12,
   "metadata": {},
   "outputs": [
    {
     "name": "stderr",
     "output_type": "stream",
     "text": [
      "Downloading: 100%|██████████| 553/553 [00:00<00:00, 277kB/s]\n",
      "Downloading: 100%|██████████| 1.20G/1.20G [01:44<00:00, 11.4MB/s]\n",
      "Downloading: 100%|██████████| 82.0/82.0 [00:00<00:00, 81.8kB/s]\n",
      "Downloading: 100%|██████████| 4.31M/4.31M [00:02<00:00, 1.55MB/s]\n",
      "Downloading: 100%|██████████| 99.0/99.0 [00:00<00:00, 33.0kB/s]\n"
     ]
    }
   ],
   "source": [
    "summarizer = pipeline(\"summarization\", model=\"google/mt5-small\", tokenizer=\"google/mt5-small\", framework=\"pt\")"
   ]
  },
  {
   "cell_type": "markdown",
   "metadata": {},
   "source": [
    "## 3. Process Input Text\n",
    "Get input from website URLs"
   ]
  },
  {
   "cell_type": "code",
   "execution_count": 13,
   "metadata": {},
   "outputs": [],
   "source": [
    "URL = 'https://en.wikipedia.org/wiki/Rococo'"
   ]
  },
  {
   "cell_type": "markdown",
   "metadata": {},
   "source": [
    "Get HTTP URL using `requests`"
   ]
  },
  {
   "cell_type": "code",
   "execution_count": 14,
   "metadata": {},
   "outputs": [],
   "source": [
    "r = requests.get(URL)"
   ]
  },
  {
   "cell_type": "markdown",
   "metadata": {},
   "source": [
    "Parse HTML body returned from the URL and format it to have a better readability"
   ]
  },
  {
   "cell_type": "code",
   "execution_count": 15,
   "metadata": {},
   "outputs": [],
   "source": [
    "soup = BeautifulSoup(r.text, 'html.parser')"
   ]
  },
  {
   "cell_type": "markdown",
   "metadata": {},
   "source": [
    "Find all text chunks with 'h1' and 'p' tags"
   ]
  },
  {
   "cell_type": "code",
   "execution_count": 16,
   "metadata": {},
   "outputs": [
    {
     "data": {
      "text/plain": [
       "[<h1 class=\"firstHeading\" id=\"firstHeading\">Rococo</h1>,\n",
       " <p class=\"mw-empty-elt\">\n",
       " </p>,\n",
       " <p><b>Rococo</b> (<span class=\"rt-commentedText nowrap\"><span class=\"IPA nopopups noexcerpt\"><a href=\"/wiki/Help:IPA/English\" title=\"Help:IPA/English\">/<span style=\"border-bottom:1px dotted\"><span title=\"'r' in 'rye'\">r</span><span title=\"/ə/: 'a' in 'about'\">ə</span><span title=\"/ˈ/: primary stress follows\">ˈ</span><span title=\"'k' in 'kind'\">k</span><span title=\"/oʊ/: 'o' in 'code'\">oʊ</span><span title=\"'k' in 'kind'\">k</span><span title=\"/oʊ/: 'o' in 'code'\">oʊ</span></span>/</a></span></span>, <small>also</small> <span class=\"rt-commentedText nowrap\"><small><a href=\"/wiki/American_English\" title=\"American English\">US</a>: </small><span class=\"IPA nopopups noexcerpt\"><a href=\"/wiki/Help:IPA/English\" title=\"Help:IPA/English\">/<span style=\"border-bottom:1px dotted\"><span title=\"/ˌ/: secondary stress follows\">ˌ</span><span title=\"'r' in 'rye'\">r</span><span title=\"/oʊ/: 'o' in 'code'\">oʊ</span><span title=\"'k' in 'kind'\">k</span><span title=\"/ə/: 'a' in 'about'\">ə</span><span title=\"/ˈ/: primary stress follows\">ˈ</span><span title=\"'k' in 'kind'\">k</span><span title=\"/oʊ/: 'o' in 'code'\">oʊ</span></span>/</a></span></span>), less commonly <b>Roccoco</b> or <b>Late Baroque</b>, is an exceptionally ornamental and theatrical style of architecture, art and decoration which combines asymmetry, scrolling curves, gilding, white and pastel colors, sculpted molding, and <i><a href=\"/wiki/Trompe-l%27%C5%93il\" title=\"Trompe-l'œil\">trompe-l'œil</a></i> frescoes to create surprise and the illusion of motion and drama.  It is often described as the final expression of the <a class=\"mw-redirect\" href=\"/wiki/Baroque_art\" title=\"Baroque art\">Baroque</a> movement.<sup class=\"reference\" id=\"cite_ref-FOOTNOTEHopkins201492_1-0\"><a href=\"#cite_note-FOOTNOTEHopkins201492-1\">[1]</a></sup>\n",
       " </p>]"
      ]
     },
     "execution_count": 16,
     "metadata": {},
     "output_type": "execute_result"
    }
   ],
   "source": [
    "results = soup.find_all(['h1', 'p'])\n",
    "results[:3]"
   ]
  },
  {
   "cell_type": "markdown",
   "metadata": {},
   "source": [
    "Text enclosed within the HTML tags are selected and joined together"
   ]
  },
  {
   "cell_type": "code",
   "execution_count": 17,
   "metadata": {},
   "outputs": [
    {
     "data": {
      "text/plain": [
       "\"Rococo \\n Rococo (/rəˈkoʊkoʊ/, also US: /ˌroʊkəˈkoʊ/), less commonly Roccoco or Late Baroque, is an exceptionally ornamental and theatrical style of architecture, art and decoration which combines asymmetry, scrolling curves, gilding, white and pastel colors, sculpted molding, and trompe-l'œil frescoes to create surprise and the illusion of motion and drama.  It is often described as the final expression of the Baroque movement.[1]\\n The Rococo style began in France in the 1730s as a reaction against the more formal and geometric Style Louis XIV. It was known as the style rocaille, or rocaille style.[2] It soon spread to other parts of Europe, particularly northern Italy, Austria, southern Germany, Central Europe and Russia.[3] It also came to influence the other arts, particularly sculpture, furniture, silverware, glassware, painting, music, and theatre.[4] Although originally a secular style primarily used for interiors of private residences the Rococo had a spiritual aspect to it whic\""
      ]
     },
     "execution_count": 17,
     "metadata": {},
     "output_type": "execute_result"
    }
   ],
   "source": [
    "text = [result.text for result in results]\n",
    "ARTICLE = ' '.join(text)\n",
    "ARTICLE[0:1000]"
   ]
  },
  {
   "cell_type": "markdown",
   "metadata": {},
   "source": [
    "## 4. Chunk text\n",
    "\n",
    "Append <eos> to punctuations that marks the end of a sentence\n",
    "<br />\n",
    "Without the <eos> tag, sentences will be split without any punctuation"
   ]
  },
  {
   "cell_type": "code",
   "execution_count": 18,
   "metadata": {},
   "outputs": [
    {
     "data": {
      "text/plain": [
       "[\"Rococo \\n Rococo (/rəˈkoʊkoʊ/, also US: /ˌroʊkəˈkoʊ/), less commonly Roccoco or Late Baroque, is an exceptionally ornamental and theatrical style of architecture, art and decoration which combines asymmetry, scrolling curves, gilding, white and pastel colors, sculpted molding, and trompe-l'œil frescoes to create surprise and the illusion of motion and drama.\",\n",
       " '  It is often described as the final expression of the Baroque movement.',\n",
       " '[1]\\n The Rococo style began in France in the 1730s as a reaction against the more formal and geometric Style Louis XIV.',\n",
       " ' It was known as the style rocaille, or rocaille style.',\n",
       " '[2] It soon spread to other parts of Europe, particularly northern Italy, Austria, southern Germany, Central Europe and Russia.',\n",
       " '[3] It also came to influence the other arts, particularly sculpture, furniture, silverware, glassware, painting, music, and theatre.',\n",
       " '[4] Although originally a secular style primarily used for interiors of private residences the Rococo had a spiritual aspect to it which led to its widespread use in church interiors, particularly in Central Europe, Portugal, and South America.',\n",
       " '[5]\\n The word rococo was first used as a humorous variation of the word rocaille.',\n",
       " '[6][7] Rocaille was originally a method of decoration, using pebbles, seashells and cement, which was often used to decorate grottoes and fountains since the Renaissance.',\n",
       " '[8][9] In the late 17th and early 18th century rocaille became the term for a kind of decorative motif or ornament that appeared in the late Style Louis XIV, in the form of a seashell interlaced with acanthus leaves.']"
      ]
     },
     "execution_count": 18,
     "metadata": {},
     "output_type": "execute_result"
    }
   ],
   "source": [
    "ARTICLE = ARTICLE.replace('.', '.<eos>')\n",
    "ARTICLE = ARTICLE.replace('!', '!<eos>')\n",
    "ARTICLE = ARTICLE.replace('?', '?<eos>')\n",
    "sentences = ARTICLE.split('<eos>')\n",
    "sentences[:10]"
   ]
  },
  {
   "cell_type": "markdown",
   "metadata": {},
   "source": [
    "Limit the size of text in a chunk so that it is smaller than 500 words\n",
    "<br />\n",
    "Split sentences into words (2D array)\n",
    "<br />\n",
    "This is to avoid the error as shown below\n",
    "```py\n",
    "Token indices sequence length is longer than the specified maximum sequence length for this model (1024). Running this sequence through the model will result in indexing errors.\n",
    "```"
   ]
  },
  {
   "cell_type": "code",
   "execution_count": 19,
   "metadata": {},
   "outputs": [
    {
     "name": "stdout",
     "output_type": "stream",
     "text": [
      "0\n",
      "A total of 12 chunks\n",
      "A total of 488 words in chunk[0]\n"
     ]
    }
   ],
   "source": [
    "max_chunk = 500\n",
    "current_chunk = 0\n",
    "chunks = []\n",
    "\n",
    "for sentence in sentences:\n",
    "    if len(chunks) == current_chunk + 1:\n",
    "        # Check if the chunk is less than 500 words\n",
    "        if len(chunks[current_chunk]) + len(sentence.split(' ')) <= max_chunk:\n",
    "            chunks[current_chunk].extend(sentence.split(' '))\n",
    "        # Next chunk\n",
    "        else:\n",
    "            current_chunk += 1\n",
    "            chunks.append(sentence.split(' '))\n",
    "    else:\n",
    "        print(current_chunk)\n",
    "        chunks.append(sentence.split(' '))\n",
    "\n",
    "print(\"A total of \" + str(current_chunk + 1) + \" chunks\")\n",
    "print(\"A total of \" + str(len(chunks[0])) + \" words in chunk[0]\")"
   ]
  },
  {
   "cell_type": "markdown",
   "metadata": {},
   "source": [
    "Append words into sentences again where each chunk is ensured to have less than 500 words"
   ]
  },
  {
   "cell_type": "code",
   "execution_count": 20,
   "metadata": {},
   "outputs": [
    {
     "name": "stdout",
     "output_type": "stream",
     "text": [
      "A total of 488 words in chunk[0]\n"
     ]
    }
   ],
   "source": [
    "for chunk_id in range (len(chunks)):\n",
    "    chunks[chunk_id] = ' '.join(chunks[chunk_id])\n",
    "\n",
    "print(\"A total of \" + str(len(chunks[0].split(' '))) + \" words in chunk[0]\")"
   ]
  },
  {
   "cell_type": "markdown",
   "metadata": {},
   "source": [
    "## 5. Summarise Text\n",
    "\n",
    "Summarise based on each chunk"
   ]
  },
  {
   "cell_type": "code",
   "execution_count": 21,
   "metadata": {},
   "outputs": [
    {
     "data": {
      "text/plain": [
       "[{'summary_text': '<extra_id_0> -'},\n",
       " {'summary_text': '<extra_id_0> decorations'},\n",
       " {'summary_text': '<extra_id_0> added:'},\n",
       " {'summary_text': '<extra_id_0> a statue of the Cathedral of the Cathedral of the Cathedral of the'},\n",
       " {'summary_text': '<extra_id_0> a Renaissance Renaissance Renaissance Renaissance Renaissance Renaissance Renaissance Renaissance'},\n",
       " {'summary_text': '<extra_id_0> continued in France.'},\n",
       " {'summary_text': '<extra_id_0> created an icon of the Rococo.'},\n",
       " {'summary_text': '<extra_id_0> sculpture'},\n",
       " {'summary_text': '<extra_id_0> statue'},\n",
       " {'summary_text': '<extra_id_0> -'},\n",
       " {'summary_text': \"<extra_id_0> a l'anglais.\"},\n",
       " {'summary_text': '<extra_id_0> .'}]"
      ]
     },
     "execution_count": 21,
     "metadata": {},
     "output_type": "execute_result"
    }
   ],
   "source": [
    "res = summarizer(chunks)\n",
    "res"
   ]
  },
  {
   "cell_type": "markdown",
   "metadata": {},
   "source": [
    "## 6. Formatting Text\n",
    "Preprocessing: format the `dict` object into a `string`."
   ]
  },
  {
   "cell_type": "code",
   "execution_count": 22,
   "metadata": {},
   "outputs": [],
   "source": [
    "summary = ''\n",
    "for result in res:\n",
    "    summary += ''.join(str(val.capitalize()) + \"\\n\" for _, val in result.items())\n",
    "\n",
    "summary = summary.replace(' .', '.')\n",
    "summary = summary.replace(\" !\", \"!\")\n",
    "summary = summary.replace(\" ?\", \"?\")"
   ]
  },
  {
   "cell_type": "markdown",
   "metadata": {},
   "source": [
    "Check `pytorch` version. `standfordnlp` requires at least version 1.0.0 or older.\n",
    "\n",
    "`torch==version_number`"
   ]
  },
  {
   "cell_type": "code",
   "execution_count": 23,
   "metadata": {},
   "outputs": [
    {
     "name": "stdout",
     "output_type": "stream",
     "text": [
      "pytorch-lightning==1.4.5\n",
      "torch==1.9.0+cu111\n",
      "torchaudio==0.9.0\n",
      "torchmetrics==0.5.1\n",
      "torchvision==0.10.0+cu111\n"
     ]
    }
   ],
   "source": [
    "!pip freeze | grep torch"
   ]
  },
  {
   "cell_type": "markdown",
   "metadata": {},
   "source": [
    "Download the English `stanfordnlp` model. It will take some time because the model is very huge (about 1.96GB). Type 'y' to continue with the download in any prompted dialogue box."
   ]
  },
  {
   "cell_type": "code",
   "execution_count": 24,
   "metadata": {},
   "outputs": [],
   "source": [
    "# stanfordnlp.download('en')"
   ]
  },
  {
   "cell_type": "markdown",
   "metadata": {},
   "source": [
    "Create a `pipeline` with `pos` processor. POS stands for Parts of speech where tagging is done."
   ]
  },
  {
   "cell_type": "code",
   "execution_count": 25,
   "metadata": {},
   "outputs": [
    {
     "name": "stdout",
     "output_type": "stream",
     "text": [
      "Use device: gpu\n",
      "---\n",
      "Loading: tokenize\n",
      "With settings: \n",
      "{'model_path': 'C:\\\\Users\\\\liana\\\\stanfordnlp_resources\\\\en_ewt_models\\\\en_ewt_tokenizer.pt', 'lang': 'en', 'shorthand': 'en_ewt', 'mode': 'predict'}\n",
      "---\n",
      "Loading: pos\n",
      "With settings: \n",
      "{'model_path': 'C:\\\\Users\\\\liana\\\\stanfordnlp_resources\\\\en_ewt_models\\\\en_ewt_tagger.pt', 'pretrain_path': 'C:\\\\Users\\\\liana\\\\stanfordnlp_resources\\\\en_ewt_models\\\\en_ewt.pretrain.pt', 'lang': 'en', 'shorthand': 'en_ewt', 'mode': 'predict'}\n",
      "Done loading processors!\n",
      "---\n"
     ]
    }
   ],
   "source": [
    "stf_nlp = stanfordnlp.Pipeline(processors='tokenize,mwt,pos')"
   ]
  },
  {
   "cell_type": "markdown",
   "metadata": {},
   "source": [
    "Evaluate the preprocessed summary text with `stanfordnlp`."
   ]
  },
  {
   "cell_type": "code",
   "execution_count": 26,
   "metadata": {},
   "outputs": [],
   "source": [
    "doc = stf_nlp(summary)"
   ]
  },
  {
   "cell_type": "markdown",
   "metadata": {},
   "source": [
    "The breakdown analysis of the summary text."
   ]
  },
  {
   "cell_type": "code",
   "execution_count": 27,
   "metadata": {},
   "outputs": [
    {
     "name": "stdout",
     "output_type": "stream",
     "text": [
      "word: < \tupos: PUNCT\txpos: -LRB-\n",
      "word: extra_id_0 \tupos: X\txpos: ADD\n",
      "word: > \tupos: PUNCT\txpos: -RRB-\n",
      "word: - \tupos: PUNCT\txpos: ,\n",
      "word: < \tupos: PUNCT\txpos: -LRB-\n",
      "word: extra_id_0 \tupos: X\txpos: ADD\n",
      "word: > \tupos: PUNCT\txpos: -RRB-\n",
      "word: decorations \tupos: NOUN\txpos: NNS\n",
      "word: < \tupos: PUNCT\txpos: -LRB-\n",
      "word: extra_id_0 \tupos: X\txpos: ADD\n",
      "word: > \tupos: PUNCT\txpos: -RRB-\n",
      "word: added \tupos: VERB\txpos: VBN\n",
      "word: : \tupos: PUNCT\txpos: :\n",
      "word: < \tupos: PUNCT\txpos: -LRB-\n",
      "word: extra_id_0 \tupos: X\txpos: ADD\n",
      "word: > \tupos: PUNCT\txpos: -RRB-\n",
      "word: a \tupos: DET\txpos: DT\n",
      "word: statue \tupos: NOUN\txpos: NN\n",
      "word: of \tupos: ADP\txpos: IN\n",
      "word: the \tupos: DET\txpos: DT\n",
      "word: cathedral \tupos: NOUN\txpos: NN\n",
      "word: of \tupos: ADP\txpos: IN\n",
      "word: the \tupos: DET\txpos: DT\n",
      "word: cathedral \tupos: NOUN\txpos: NN\n",
      "word: of \tupos: ADP\txpos: IN\n",
      "word: the \tupos: DET\txpos: DT\n",
      "word: cathedral \tupos: NOUN\txpos: NN\n",
      "word: of \tupos: ADP\txpos: IN\n",
      "word: the \tupos: DET\txpos: DT\n",
      "word: < \tupos: PUNCT\txpos: -LRB-\n",
      "word: extra_id_0 \tupos: X\txpos: ADD\n",
      "word: > \tupos: PUNCT\txpos: -RRB-\n",
      "word: a \tupos: DET\txpos: DT\n",
      "word: renaissance \tupos: PROPN\txpos: NNP\n",
      "word: renaissance \tupos: PROPN\txpos: NNP\n",
      "word: renaissance \tupos: PROPN\txpos: NNP\n",
      "word: renaissance \tupos: PROPN\txpos: NNP\n",
      "word: renaissance \tupos: PROPN\txpos: NNP\n",
      "word: renaissance \tupos: PROPN\txpos: NNP\n",
      "word: renaissance \tupos: PROPN\txpos: NNP\n",
      "word: renaissance \tupos: PROPN\txpos: NNP\n",
      "word: < \tupos: PUNCT\txpos: -LRB-\n",
      "word: extra_id_0 \tupos: X\txpos: ADD\n",
      "word: > \tupos: PUNCT\txpos: -RRB-\n",
      "word: continued \tupos: VERB\txpos: VBD\n",
      "word: in \tupos: ADP\txpos: IN\n",
      "word: france \tupos: PROPN\txpos: NNP\n",
      "word: . \tupos: PUNCT\txpos: .\n",
      "word: < \tupos: PUNCT\txpos: -LRB-\n",
      "word: extra_id_0 \tupos: X\txpos: ADD\n",
      "word: > \tupos: PUNCT\txpos: -RRB-\n",
      "word: created \tupos: VERB\txpos: VBD\n",
      "word: an \tupos: DET\txpos: DT\n",
      "word: icon \tupos: NOUN\txpos: NN\n",
      "word: of \tupos: ADP\txpos: IN\n",
      "word: the \tupos: DET\txpos: DT\n",
      "word: rococo \tupos: NOUN\txpos: NN\n",
      "word: . \tupos: PUNCT\txpos: .\n",
      "word: < \tupos: PUNCT\txpos: -LRB-\n",
      "word: extra_id_0 \tupos: X\txpos: ADD\n",
      "word: > \tupos: PUNCT\txpos: -RRB-\n",
      "word: sculpture \tupos: NOUN\txpos: NN\n",
      "word: < \tupos: PUNCT\txpos: -LRB-\n",
      "word: extra_id_0 \tupos: X\txpos: ADD\n",
      "word: > \tupos: PUNCT\txpos: -RRB-\n",
      "word: statue \tupos: NOUN\txpos: NN\n",
      "word: < \tupos: PUNCT\txpos: -LRB-\n",
      "word: extra_id_0 \tupos: X\txpos: ADD\n",
      "word: > \tupos: PUNCT\txpos: -RRB-\n",
      "word: - \tupos: PUNCT\txpos: ,\n",
      "word: < \tupos: PUNCT\txpos: -LRB-\n",
      "word: extra_id_0 \tupos: X\txpos: ADD\n",
      "word: > \tupos: PUNCT\txpos: -RRB-\n",
      "word: a \tupos: DET\txpos: DT\n",
      "word: l'anglais \tupos: NOUN\txpos: NN\n",
      "word: . \tupos: PUNCT\txpos: .\n",
      "word: < \tupos: PUNCT\txpos: -LRB-\n",
      "word: extra_id_0 \tupos: X\txpos: ADD\n",
      "word: >. \tupos: SYM\txpos: NFP\n"
     ]
    }
   ],
   "source": [
    "print(*[f'word: {word.text+\" \"}\\tupos: {word.upos}\\txpos: {word.xpos}' for sent in doc.sentences for word in sent.words], sep='\\n')"
   ]
  },
  {
   "cell_type": "markdown",
   "metadata": {},
   "source": [
    "Capitalise proper nouns. `PROPN` stands for proper noun and `NNP` stands for proper noun, singular phrase."
   ]
  },
  {
   "cell_type": "code",
   "execution_count": 28,
   "metadata": {},
   "outputs": [
    {
     "data": {
      "text/plain": [
       "['<',\n",
       " 'extra_id_0',\n",
       " '>',\n",
       " '-',\n",
       " '<',\n",
       " 'extra_id_0',\n",
       " '>',\n",
       " 'decorations',\n",
       " '<',\n",
       " 'extra_id_0',\n",
       " '>',\n",
       " 'added',\n",
       " ':',\n",
       " '<',\n",
       " 'extra_id_0',\n",
       " '>',\n",
       " 'a',\n",
       " 'statue',\n",
       " 'of',\n",
       " 'the',\n",
       " 'cathedral',\n",
       " 'of',\n",
       " 'the',\n",
       " 'cathedral',\n",
       " 'of',\n",
       " 'the',\n",
       " 'cathedral',\n",
       " 'of',\n",
       " 'the',\n",
       " '<',\n",
       " 'extra_id_0',\n",
       " '>',\n",
       " 'a',\n",
       " 'Renaissance',\n",
       " 'Renaissance',\n",
       " 'Renaissance',\n",
       " 'Renaissance',\n",
       " 'Renaissance',\n",
       " 'Renaissance',\n",
       " 'Renaissance',\n",
       " 'Renaissance',\n",
       " '<',\n",
       " 'extra_id_0',\n",
       " '>',\n",
       " 'continued',\n",
       " 'in',\n",
       " 'France',\n",
       " '.',\n",
       " '<',\n",
       " 'extra_id_0',\n",
       " '>',\n",
       " 'created',\n",
       " 'an',\n",
       " 'icon',\n",
       " 'of',\n",
       " 'the',\n",
       " 'rococo',\n",
       " '.',\n",
       " '<',\n",
       " 'extra_id_0',\n",
       " '>',\n",
       " 'sculpture',\n",
       " '<',\n",
       " 'extra_id_0',\n",
       " '>',\n",
       " 'statue',\n",
       " '<',\n",
       " 'extra_id_0',\n",
       " '>',\n",
       " '-',\n",
       " '<',\n",
       " 'extra_id_0',\n",
       " '>',\n",
       " 'a',\n",
       " \"l'anglais\",\n",
       " '.',\n",
       " '<',\n",
       " 'extra_id_0',\n",
       " '>.']"
      ]
     },
     "execution_count": 28,
     "metadata": {},
     "output_type": "execute_result"
    }
   ],
   "source": [
    "doc_list = [w.text.capitalize() if w.upos in [\"PROPN\",\"NNS\"] else w.text for sent in doc.sentences for w in sent.words]\n",
    "doc_list"
   ]
  },
  {
   "cell_type": "markdown",
   "metadata": {},
   "source": [
    "Capitalise every first word of the sentence. Add a space in front of words that are not punctuation."
   ]
  },
  {
   "cell_type": "code",
   "execution_count": 29,
   "metadata": {},
   "outputs": [
    {
     "data": {
      "text/plain": [
       "['<',\n",
       " ' extra_id_0',\n",
       " '>',\n",
       " '-',\n",
       " '<',\n",
       " ' extra_id_0',\n",
       " '>',\n",
       " ' decorations',\n",
       " '<',\n",
       " ' extra_id_0',\n",
       " '>',\n",
       " ' added',\n",
       " ':',\n",
       " '<',\n",
       " ' extra_id_0',\n",
       " '>',\n",
       " ' a',\n",
       " ' statue',\n",
       " ' of',\n",
       " ' the',\n",
       " ' cathedral',\n",
       " ' of',\n",
       " ' the',\n",
       " ' cathedral',\n",
       " ' of',\n",
       " ' the',\n",
       " ' cathedral',\n",
       " ' of',\n",
       " ' the',\n",
       " '<',\n",
       " ' extra_id_0',\n",
       " '>',\n",
       " ' A',\n",
       " ' Renaissance',\n",
       " ' Renaissance',\n",
       " ' Renaissance',\n",
       " ' Renaissance',\n",
       " ' Renaissance',\n",
       " ' Renaissance',\n",
       " ' Renaissance',\n",
       " ' Renaissance',\n",
       " '<',\n",
       " ' extra_id_0',\n",
       " '>',\n",
       " ' continued',\n",
       " ' in',\n",
       " ' France',\n",
       " '.',\n",
       " '<',\n",
       " ' extra_id_0',\n",
       " '>',\n",
       " ' Created',\n",
       " ' an',\n",
       " ' icon',\n",
       " ' of',\n",
       " ' the',\n",
       " ' rococo',\n",
       " '.',\n",
       " '<',\n",
       " ' extra_id_0',\n",
       " '>',\n",
       " ' sculpture',\n",
       " '<',\n",
       " ' extra_id_0',\n",
       " '>',\n",
       " ' statue',\n",
       " '<',\n",
       " ' extra_id_0',\n",
       " '>',\n",
       " '-',\n",
       " '<',\n",
       " ' extra_id_0',\n",
       " '>',\n",
       " ' a',\n",
       " \" l'anglais\",\n",
       " '.',\n",
       " '<',\n",
       " ' extra_id_0',\n",
       " ' >.']"
      ]
     },
     "execution_count": 29,
     "metadata": {},
     "output_type": "execute_result"
    }
   ],
   "source": [
    "i = 0\n",
    "for sent in doc.sentences:\n",
    "    for w in range(len(sent.words)):\n",
    "        if w != 2:\n",
    "            if sent.words[w - 1].xpos in [\"!\", \".\"]: # Capitalise each first word\n",
    "                doc_list[i] = sent.words[w].text.capitalize()\n",
    "        if sent.words[w].upos != \"PUNCT\" and i != 0: # Add a space before non-punctuation words\n",
    "            doc_list[i] = \" \"+ doc_list[i]\n",
    "        i += 1\n",
    "\n",
    "doc_list"
   ]
  },
  {
   "cell_type": "markdown",
   "metadata": {},
   "source": [
    "Join all items in `doc_list` into a string."
   ]
  },
  {
   "cell_type": "code",
   "execution_count": 30,
   "metadata": {},
   "outputs": [],
   "source": [
    "summary = \"\"\n",
    "for s in doc_list:\n",
    "    summary += s"
   ]
  },
  {
   "cell_type": "markdown",
   "metadata": {},
   "source": [
    "## 7. Results\n",
    "\n",
    "Some statistics and the final result."
   ]
  },
  {
   "cell_type": "code",
   "execution_count": 31,
   "metadata": {},
   "outputs": [
    {
     "data": {
      "text/plain": [
       "['< extra_id_0>-< extra_id_0> decorations< extra_id_0> added:< extra_id_0> a statue of the cathedral of the cathedral of the cathedral of the< extra_id_0> A Renaissance Renaissance Renaissance Renaissance Renaissance Renaissance Renaissance Renaissance< extra_id_0> continued in France.',\n",
       " '< extra_id_0> Created an icon of the rococo.',\n",
       " \"< extra_id_0> sculpture< extra_id_0> statue< extra_id_0>-< extra_id_0> a l'anglais.\"]"
      ]
     },
     "execution_count": 31,
     "metadata": {},
     "output_type": "execute_result"
    }
   ],
   "source": [
    "sentences = []\n",
    "one_sen = \"\"\n",
    "for s in doc_list:\n",
    "    one_sen += s\n",
    "    if s == \".\":\n",
    "        sentences.append(one_sen)\n",
    "        one_sen = \"\"\n",
    "\n",
    "sentences"
   ]
  },
  {
   "cell_type": "code",
   "execution_count": 32,
   "metadata": {},
   "outputs": [
    {
     "name": "stdout",
     "output_type": "stream",
     "text": [
      "# Header\n",
      "\n",
      "- < extra_id_0>-< extra_id_0> decorations< extra_id_0> added:< extra_id_0> a statue of the cathedral of the cathedral of the cathedral of the< extra_id_0> A Renaissance Renaissance Renaissance Renaissance Renaissance Renaissance Renaissance Renaissance< extra_id_0> continued in France.\n",
      "-< extra_id_0> Created an icon of the rococo.\n",
      "\n",
      "---\n",
      "\n",
      "\n"
     ]
    }
   ],
   "source": [
    "md = \"\" # Markdown output to be fed into slide generator\n",
    "txt = \"\"\n",
    "for sentence in sentences:\n",
    "        if(len(txt) == 0):\n",
    "            md += \"# \" + \"Header\" + \"\\n\\n- \" + sentence\n",
    "            txt += sentence\n",
    "        elif(len(txt) < 1000 and sentence != sentences[-1]): # If the number of characters on a slide exceeds 1000, create new slide\n",
    "            md += \"\\n-\" + sentence\n",
    "            txt += sentence\n",
    "        else:\n",
    "            md += \"\\n\\n---\\n\\n\"\n",
    "            txt = \"\"\n",
    "\n",
    "print(md)"
   ]
  },
  {
   "cell_type": "code",
   "execution_count": 33,
   "metadata": {},
   "outputs": [
    {
     "name": "stdout",
     "output_type": "stream",
     "text": [
      "Number of words in summary: 51\n",
      "Number of words in original article: 37326\n",
      "Reduced by: 99.86%\n",
      "\n",
      "< extra_id_0>-< extra_id_0> decorations< extra_id_0> added:< extra_id_0> a statue of the cathedral of the cathedral of the cathedral of the< extra_id_0> A Renaissance Renaissance Renaissance Renaissance Renaissance Renaissance Renaissance Renaissance< extra_id_0> continued in France.< extra_id_0> Created an icon of the rococo.< extra_id_0> sculpture< extra_id_0> statue< extra_id_0>-< extra_id_0> a l'anglais.< extra_id_0 >.\n"
     ]
    }
   ],
   "source": [
    "words_after = len(summary.split(' '))\n",
    "words_before = len(ARTICLE)\n",
    "reduced_by = (words_before - words_after) / words_before * 100\n",
    "\n",
    "print(\"Number of words in summary: \" + str(words_after))\n",
    "print(\"Number of words in original article: \" + str(words_before))\n",
    "print(\"Reduced by: \" + str(round(reduced_by, 2)) + \"%\\n\")\n",
    "print(summary)"
   ]
  }
 ],
 "metadata": {
  "interpreter": {
   "hash": "37833eaa7c79fc29fc64cdd65cef9244dd84f1f67a5ba8cd87f16f157512cb2c"
  },
  "kernelspec": {
   "display_name": "Python 3.8.10 64-bit",
   "name": "python3"
  },
  "language_info": {
   "codemirror_mode": {
    "name": "ipython",
    "version": 3
   },
   "file_extension": ".py",
   "mimetype": "text/x-python",
   "name": "python",
   "nbconvert_exporter": "python",
   "pygments_lexer": "ipython3",
   "version": "3.8.10"
  },
  "orig_nbformat": 4
 },
 "nbformat": 4,
 "nbformat_minor": 2
}
