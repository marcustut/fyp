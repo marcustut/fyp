{
 "cells": [
  {
   "cell_type": "code",
   "execution_count": 4,
   "metadata": {},
   "outputs": [],
   "source": [
    "def __add_tokens(text: str) -> str:\n",
    "    '''Adds tokens to text for easier processing.'''\n",
    "    text = text.replace('.', '.<eos>')\n",
    "    text = text.replace('!', '!<eos>')\n",
    "    text = text.replace('?', '?<eos>')\n",
    "    return text"
   ]
  },
  {
   "cell_type": "code",
   "execution_count": 29,
   "metadata": {},
   "outputs": [],
   "source": [
    "import pdfplumber\n",
    "\n",
    "article = ''\n",
    "with pdfplumber.open('../program/uploads/AIartworkvsHumanartwork.pdf') as pdf:\n",
    "    for page in pdf.pages:\n",
    "        article += ' '.join(((page.extract_text(layout=False)).replace('\\n', '')).split())\n",
    "\n",
    "article = __add_tokens(text=article)"
   ]
  },
  {
   "cell_type": "code",
   "execution_count": 33,
   "metadata": {},
   "outputs": [],
   "source": [
    "def __get_sentences( article: str) -> 'list[str]':\n",
    "    '''Gets individual sentences for text chunking.'''\n",
    "    sentences = article.split('<eos>')\n",
    "\n",
    "    return sentences\n",
    "\n",
    "def __chunk_text(sentences: 'list[str]') -> 'list[str]':\n",
    "    '''Chunks text for each chunk to be less than the max length.'''\n",
    "    current_chunk = 0\n",
    "    chunks = []\n",
    "\n",
    "    for sentence in sentences:\n",
    "        if len(chunks) == current_chunk + 1:\n",
    "            # Check if the chunk is less than max_chunk\n",
    "            if len(chunks[current_chunk]) + len(sentence.split()) <= 250:\n",
    "                chunks[current_chunk].extend(sentence.split())\n",
    "            # Next chunk\n",
    "            else:\n",
    "                current_chunk += 1\n",
    "                chunks.append(sentence.split())\n",
    "        else:\n",
    "            chunks.append(sentence.split())\n",
    "\n",
    "    for chunk_id in range (len(chunks)):\n",
    "        chunks[chunk_id] = ' '.join(chunks[chunk_id])\n",
    "\n",
    "    return chunks"
   ]
  },
  {
   "cell_type": "code",
   "execution_count": 34,
   "metadata": {},
   "outputs": [],
   "source": [
    "sentences = __get_sentences(article=article)\n",
    "chunks = __chunk_text(sentences=sentences)"
   ]
  },
  {
   "cell_type": "code",
   "execution_count": 35,
   "metadata": {},
   "outputs": [
    {
     "name": "stdout",
     "output_type": "stream",
     "text": [
      "249\n",
      "235\n",
      "236\n",
      "226\n",
      "247\n",
      "235\n",
      "240\n",
      "242\n",
      "250\n",
      "241\n",
      "247\n",
      "241\n",
      "242\n",
      "246\n",
      "250\n",
      "248\n",
      "250\n",
      "249\n",
      "81\n"
     ]
    }
   ],
   "source": [
    "for c in chunks:\n",
    "    print(len(c.split()))"
   ]
  },
  {
   "cell_type": "code",
   "execution_count": 39,
   "metadata": {},
   "outputs": [
    {
     "data": {
      "text/plain": [
       "'See discussions, stats, and author profiles for this publication at: https://www. researchgate. net/publication/357876127Artiﬁcial Intelligence Art: Attitudes and Perceptions Toward Human VersusArtiﬁcial Intelligence ArtworksConference Paper · January 2022CITATIONS READS0 1114 authors, including:Ting Tin Tin Liana LingINTI International University Tunku Abdul Rahman University College6 PUBLICATIONS 0 CITATIONS 1 PUBLICATION 0 CITATIONS SEE PROFILE SEE PROFILESome of the authors of this publication are also working on these related projects:Artificial Intelligent Artworks View projectStudent Academic Performance Prediction Model View projectAll content following this page was uploaded by Ting Tin Tin on 17 January 2022. The user has requested enhancement of the downloaded file. Artificial Intelligence Art: Attitudes and Perceptions Toward Human Versus Artificial Intelligence Artworks Tin Tin Ting1, a), Li Ya Ling2, b), Amirul Imran bin Ahmad Azam2, c) and Ramanathan Palaniappan2, d) 11INTI International University, Persiaran Perdana BBN Putra Nilai, 71800 Nilai, Negeri Sembilan, Malaysia 2Tunku Abdul Rahman University College, Jalan Genting Kelang, 53300 Kuala Lumpur, Malaysia a) Corresponding author: tintin. ting@newinti. edu. my b) lingly-wp18@student. tarc. edu. my c) amirulibaa-wm19@student. tarc. edu. my d) palaniappan-wm19@student. tarc. edu. my Abstract. This research is a study on the young generation views and acceptance of Artificial Intelligence (AI) art based on the painting and literature created by the latest AI technologies to understand AI advancement and capabilities in the domain of art. An online questionnaire is sent to a university’s undergraduates in a local university with 202 responds. Data is analyzed by PSPP utilizing Cronbach’s Alpha to test the reliability of the questionnaire items.'"
      ]
     },
     "execution_count": 39,
     "metadata": {},
     "output_type": "execute_result"
    }
   ],
   "source": [
    "chunks[0]"
   ]
  },
  {
   "cell_type": "code",
   "execution_count": 14,
   "metadata": {},
   "outputs": [],
   "source": [
    "from transformers import pipeline\n",
    "from transformers import BartForConditionalGeneration, AutoModelForSeq2SeqLM\n",
    "from transformers import AutoTokenizer\n",
    "from transformers.pipelines.base import Pipeline\n",
    "from summarizer import Summarizer\n",
    "import os\n",
    "import pickle"
   ]
  },
  {
   "cell_type": "code",
   "execution_count": 16,
   "metadata": {},
   "outputs": [],
   "source": [
    "checkpoint = 'sshleifer/distilbart-cnn-12-6'\n",
    "model = BartForConditionalGeneration.from_pretrained(checkpoint)\n",
    "tokenizer = AutoTokenizer.from_pretrained(checkpoint)"
   ]
  },
  {
   "cell_type": "code",
   "execution_count": 37,
   "metadata": {},
   "outputs": [],
   "source": [
    "summarizer = pipeline(\n",
    "            'summarization', model=model, tokenizer=tokenizer)\n",
    "results = summarizer(chunks, return_text='True')"
   ]
  },
  {
   "cell_type": "code",
   "execution_count": 38,
   "metadata": {},
   "outputs": [
    {
     "data": {
      "text/plain": [
       "[{'summary_text': ' The user has requested enhancement of the downloaded file . See discussions, stats, and author profiles for this publication at: https://www.researchgate.net/publication/357876127Artiﬁcial Intelligence Art: Attitudes and Perceptions Toward Human Versus Artificial Intelligence Artworks . The research is a study on the young generation views and acceptance of Artificial Intelligence (AI) art .'},\n",
       " {'summary_text': ' The term Artificial Intelligence (AI) originated in the 1950’s in modelling human cognition . Nowadays, the term has evolved to refer to application that rely on deep neural networks . AI art refers to artwork made by collaboration between AI algorithms and human artists . 54% of respondents did not correctly identify emotions in AI artworks .'},\n",
       " {'summary_text': ' This paper is constructed in four main sections: Literature Review, Research Methodology, Research Results and Discussion, and Conclusion . According to previous studies, AI can be utilized as Imitator, Collaborator, and Creator . On the other hand, humans might not be able to appreciate AI artworks emotionally as they treated it as artificial .'},\n",
       " {'summary_text': ' In 2018, a painting as the product of human-AI collaboration was auctioned for $432,500 (approximately RM1,716,022) at a British auction house . The painting was created using Generative Adversarial Networks (GANs) The goal of AI as a Collaborator is to create novel artworks itself, though with heavy human involvement .'},\n",
       " {'summary_text': ' Elgammal proposed a new art-generating system named Creative Adversarial Network (CAN) CAN is an adaptation of GANs where it also uses the generator and discriminator networks . The difference lies in the training, where the discriminator instead of generator is trained to recognize the styles of artworks .'},\n",
       " {'summary_text': ' There are three types of creativity: combinational, exploratory and transformational creativity . Combinational creativity generates new combinations from familiar ideas by identifying indirect associations between two concepts from random sources . Poem. exe generates and posts unique Japanese Haiku poems on Twitter through random combinations of data input . AI algorithms face challenges in combinational creativity .'},\n",
       " {'summary_text': ' Genetic Algorithms (GAs) can be incorporated into the program, which allows random changes that are similar to mutations in biological evolution . Sculptor William Latham cautiously and sparingly employed GAs in his AI program, eliminating large point mutations altogether . As a result, the series of produced images was artworks beyond himself but remains similar in his artistic style .'},\n",
       " {'summary_text': ' Reception of AI paintings was positive when human subjects were unaware of the painter’s identity [24, 26] When people were told certain paintings were created by AI (attributed artist identity = AI), they rated the paintings significantly lower than other people who thought the artist was human . Therefore, we want to replicate the experiment and find out how attributed artist identity might affect the judgement on AI art .'},\n",
       " {'summary_text': \" Section 3 is a Turing test which is used to test whether respondents could pick the correct artwork produced by AI . Section 4 is about personal opinion which elicit the degree of exposure to AI technology and respondents’ acceptance of AI artworks . Section 5 was an experimental design to find out the relationship between attributed artist identity and respondents' judgement on AI artwork .\"},\n",
       " {'summary_text': ' A pilot test is conducted on five college students before the questionnaire is distributed online through social media, email and WhatsApp . The reliability of the questionnaire items is also tested using Cronbach’s Alpha test utilizing PSPP with the result of N = 47, α = 87, which indicates a high reliability . Table 1 shows a total of 202 respondents demographics: age, gender, and faculty .'},\n",
       " {'summary_text': ' In the questionnaire Section 2, the portraits in questions 1 and 2 are the same images but modified with different color palettes . Respondents are required to choose the group of phrases that closely resembled what they felt from the paintings . If the chosen group of emotions did not correspond to the intended emotion, the response is counted as “emotion not correctly identified” Result of the experiment shows that 54% (mean) of the undergraduates cannot identify the intended emotions correct . This shows that the advancement of AI artworks, human’s apprehension of the artworks is not aligned .'},\n",
       " {'summary_text': ' Based on Table 3, respondents have moderate exposure to AI technology (Mean = 3. 33) Table 4 shows the acceptance rate of AI artworks and the mean is 74. 9% However, based on Table 5, there is no significant correlation between degree of exposure and acceptance . This result is different from the theory proposed by Zajonc’s “Mere Exposure Effect” [12]'},\n",
       " {'summary_text': ' Q3: “Based on your personal view, what role do you think is most suitable for AI in the Positive Response creative arts industry? ” (95. 5%) Q4. “Which word describes your feeling about contemporary AI artwork most Positive Response accurately? “ (80. 7%) MEANS 74. 9%) H3: Undergraduates are able to correctly identify human artwork versus AI artworks .'},\n",
       " {'summary_text': ' In this experimental test, respondents are informed that the images in a subsection are created by AI . Respondents have to judge the images accordingly . For each attributed identity group, the human artist identity group consistently gain slightly higher ratings . Based on the independent Sample T-Test, there is a relationship between attributed artwork and judgement on AI artwork .'},\n",
       " {'summary_text': ' This has proven that researchers can focus in improving AI algorithm in order to produce more realistic artworks . Acceptance and judgement of AI artwork is not based on one’s AI knowledge or exposure to AI as arts is a field of feelings and it depends on different individuals’ experience and personal preference .'},\n",
       " {'summary_text': ' P. R. N. Childs, P. C. and R. M. N . (2019) Mechanical Design Engineering Handbook. Elsevier. (P.C. N) Childs: A Computational Approach for Combinational Creativity in Design. In Proceedings of the DESIGN 2018, pp. 1815-1824.'},\n",
       " {'summary_text': \" Can GPT-3 Pass a Writer’s Turing Test? Journal of Cultural Analytics. (2020) Elkins, K. Elkins and Chun, J. (2019) Can the GPT 3 pass a Writer's Turing test? Can the new algorithm pass the Turing test of a writer's work?\"},\n",
       " {'summary_text': ' A. Hong, J. W. and Curran, N. M. (2019) Artificial Intelligence, Artists, and Art: Attitudes Toward Artwork Produced by Humans vs. Artificial Intelligence . Jennings, Jennings, E. E. (2010) Developing Creativity: Artificial Barriers in Artificial Intelligence. Minds and Machines,20(4), pp. 489–501. Jennings, K. E., M. Mazzone, M. Elgammal, A. Kolliopoulos, C. Martindale (1990) The Clockwork Muse: The Predictability Of Artistic Change.'},\n",
       " {'summary_text': ' Design Studies: Assessing Design Creativity: Refinements to the Novelty assessment Method, Design Studies, 32(4), pp. 348–383 . Sawyer, R. K. Sawyer, K. and Chakrabarti, A. Sundararajan, L. (2014) Mind, Machine, and creativity: An Artist’s Perspective. Journal of Creative Behavior, 48(2), pp 136–151.'}]"
      ]
     },
     "execution_count": 38,
     "metadata": {},
     "output_type": "execute_result"
    }
   ],
   "source": [
    "results"
   ]
  },
  {
   "cell_type": "code",
   "execution_count": 22,
   "metadata": {},
   "outputs": [],
   "source": [
    "article = ''\n",
    "with open('../program/uploads/sample1.txt', 'r', encoding='utf-8') as f:\n",
    "    article += ' '.join(((f.read())).replace('\\n', ' ').split())\n",
    "\n",
    "article = __add_tokens(text=article)"
   ]
  },
  {
   "cell_type": "code",
   "execution_count": 23,
   "metadata": {},
   "outputs": [],
   "source": [
    "sentences = __get_sentences(article=article)\n",
    "chunks = __chunk_text(sentences=sentences)"
   ]
  },
  {
   "cell_type": "code",
   "execution_count": 28,
   "metadata": {},
   "outputs": [
    {
     "name": "stdout",
     "output_type": "stream",
     "text": [
      "244\n"
     ]
    }
   ],
   "source": [
    "for c in chunks:\n",
    "    print(len(c.split()))"
   ]
  }
 ],
 "metadata": {
  "interpreter": {
   "hash": "674d0c5ad507fdf0f49a51b6f7a757e543757995548e180cf9d61bc60776206c"
  },
  "kernelspec": {
   "display_name": "Python 3.8.12 ('slide-gen')",
   "language": "python",
   "name": "python3"
  },
  "language_info": {
   "codemirror_mode": {
    "name": "ipython",
    "version": 3
   },
   "file_extension": ".py",
   "mimetype": "text/x-python",
   "name": "python",
   "nbconvert_exporter": "python",
   "pygments_lexer": "ipython3",
   "version": "3.8.12"
  },
  "orig_nbformat": 4
 },
 "nbformat": 4,
 "nbformat_minor": 2
}
