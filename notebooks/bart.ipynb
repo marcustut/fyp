{
 "cells": [
  {
   "cell_type": "markdown",
   "metadata": {},
   "source": [
    "# Abstractive Text Summarization Using BART (bart-large-cnn)\n",
    "_By Ling Li Ya_\n",
    "\n",
    "References:\n",
    "1. [Long Form Summarization With Hugging Face](https://github.com/nicknochnack/Longform-Summarization-with-Hugging-Face/blob/main/LongSummarization.ipynb)\n",
    "2. [BART: Denoising Sequence-to-Sequence Pre-training for Natural Language Generation, Translation, and Comprehension](https://arxiv.org/abs/1910.13461)"
   ]
  },
  {
   "cell_type": "markdown",
   "metadata": {},
   "source": [
    "## 1. Install and Import Dependencies\n",
    "Install `pytorch`"
   ]
  },
  {
   "cell_type": "code",
   "execution_count": 1,
   "metadata": {},
   "outputs": [
    {
     "name": "stdout",
     "output_type": "stream",
     "text": [
      "Looking in links: https://download.pytorch.org/whl/torch_stable.html\n",
      "Requirement already satisfied: torch==1.9.0+cu111 in c:\\users\\liana\\appdata\\local\\programs\\python\\python38\\lib\\site-packages (1.9.0+cu111)\n",
      "Requirement already satisfied: torchvision==0.10.0+cu111 in c:\\users\\liana\\appdata\\local\\programs\\python\\python38\\lib\\site-packages (0.10.0+cu111)\n",
      "Requirement already satisfied: torchaudio==0.9.0 in c:\\users\\liana\\appdata\\local\\programs\\python\\python38\\lib\\site-packages (0.9.0)\n",
      "Requirement already satisfied: typing-extensions in c:\\users\\liana\\appdata\\local\\programs\\python\\python38\\lib\\site-packages (from torch==1.9.0+cu111) (3.7.4.3)\n",
      "Requirement already satisfied: numpy in c:\\users\\liana\\appdata\\local\\programs\\python\\python38\\lib\\site-packages (from torchvision==0.10.0+cu111) (1.19.5)\n",
      "Requirement already satisfied: pillow>=5.3.0 in c:\\users\\liana\\appdata\\local\\programs\\python\\python38\\lib\\site-packages (from torchvision==0.10.0+cu111) (8.3.1)\n"
     ]
    },
    {
     "name": "stderr",
     "output_type": "stream",
     "text": [
      "WARNING: You are using pip version 21.2.4; however, version 21.3 is available.\n",
      "You should consider upgrading via the 'C:\\Users\\liana\\AppData\\Local\\Programs\\Python\\Python38\\python.exe -m pip install --upgrade pip' command.\n"
     ]
    }
   ],
   "source": [
    "!pip3 install torch==1.9.0+cu111 torchvision==0.10.0+cu111 torchaudio==0.9.0 -f https://download.pytorch.org/whl/torch_stable.html"
   ]
  },
  {
   "cell_type": "markdown",
   "metadata": {},
   "source": [
    "Install `transformers` to use its `summarization pipeline`"
   ]
  },
  {
   "cell_type": "code",
   "execution_count": 2,
   "metadata": {},
   "outputs": [
    {
     "name": "stdout",
     "output_type": "stream",
     "text": [
      "Requirement already satisfied: transformers in c:\\users\\liana\\appdata\\local\\programs\\python\\python38\\lib\\site-packages (4.10.0)\n",
      "Requirement already satisfied: pyyaml>=5.1 in c:\\users\\liana\\appdata\\local\\programs\\python\\python38\\lib\\site-packages (from transformers) (5.4.1)\n",
      "Requirement already satisfied: requests in c:\\users\\liana\\appdata\\local\\programs\\python\\python38\\lib\\site-packages (from transformers) (2.26.0)\n",
      "Requirement already satisfied: packaging in c:\\users\\liana\\appdata\\local\\programs\\python\\python38\\lib\\site-packages (from transformers) (21.0)\n",
      "Requirement already satisfied: tqdm>=4.27 in c:\\users\\liana\\appdata\\local\\programs\\python\\python38\\lib\\site-packages (from transformers) (4.62.1)\n",
      "Requirement already satisfied: numpy>=1.17 in c:\\users\\liana\\appdata\\local\\programs\\python\\python38\\lib\\site-packages (from transformers) (1.19.5)\n",
      "Requirement already satisfied: huggingface-hub>=0.0.12 in c:\\users\\liana\\appdata\\local\\programs\\python\\python38\\lib\\site-packages (from transformers) (0.0.19)\n",
      "Requirement already satisfied: tokenizers<0.11,>=0.10.1 in c:\\users\\liana\\appdata\\local\\programs\\python\\python38\\lib\\site-packages (from transformers) (0.10.3)\n",
      "Requirement already satisfied: sacremoses in c:\\users\\liana\\appdata\\local\\programs\\python\\python38\\lib\\site-packages (from transformers) (0.0.45)\n",
      "Requirement already satisfied: regex!=2019.12.17 in c:\\users\\liana\\appdata\\local\\programs\\python\\python38\\lib\\site-packages (from transformers) (2021.8.3)\n",
      "Requirement already satisfied: filelock in c:\\users\\liana\\appdata\\local\\programs\\python\\python38\\lib\\site-packages (from transformers) (3.0.12)\n",
      "Requirement already satisfied: typing-extensions in c:\\users\\liana\\appdata\\local\\programs\\python\\python38\\lib\\site-packages (from huggingface-hub>=0.0.12->transformers) (3.7.4.3)\n",
      "Requirement already satisfied: pyparsing>=2.0.2 in c:\\users\\liana\\appdata\\local\\programs\\python\\python38\\lib\\site-packages (from packaging->transformers) (2.4.7)\n",
      "Requirement already satisfied: colorama in c:\\users\\liana\\appdata\\local\\programs\\python\\python38\\lib\\site-packages (from tqdm>=4.27->transformers) (0.4.4)\n",
      "Requirement already satisfied: charset-normalizer~=2.0.0 in c:\\users\\liana\\appdata\\local\\programs\\python\\python38\\lib\\site-packages (from requests->transformers) (2.0.4)\n",
      "Requirement already satisfied: idna<4,>=2.5 in c:\\users\\liana\\appdata\\local\\programs\\python\\python38\\lib\\site-packages (from requests->transformers) (3.2)\n",
      "Requirement already satisfied: certifi>=2017.4.17 in c:\\users\\liana\\appdata\\local\\programs\\python\\python38\\lib\\site-packages (from requests->transformers) (2021.5.30)\n",
      "Requirement already satisfied: urllib3<1.27,>=1.21.1 in c:\\users\\liana\\appdata\\local\\programs\\python\\python38\\lib\\site-packages (from requests->transformers) (1.26.6)\n",
      "Requirement already satisfied: six in c:\\users\\liana\\appdata\\local\\programs\\python\\python38\\lib\\site-packages (from sacremoses->transformers) (1.15.0)\n",
      "Requirement already satisfied: click in c:\\users\\liana\\appdata\\local\\programs\\python\\python38\\lib\\site-packages (from sacremoses->transformers) (7.1.2)\n",
      "Requirement already satisfied: joblib in c:\\users\\liana\\appdata\\local\\programs\\python\\python38\\lib\\site-packages (from sacremoses->transformers) (1.0.1)\n"
     ]
    },
    {
     "name": "stderr",
     "output_type": "stream",
     "text": [
      "WARNING: You are using pip version 21.2.4; however, version 21.3 is available.\n",
      "You should consider upgrading via the 'C:\\Users\\liana\\AppData\\Local\\Programs\\Python\\Python38\\python.exe -m pip install --upgrade pip' command.\n"
     ]
    }
   ],
   "source": [
    "!pip install transformers"
   ]
  },
  {
   "cell_type": "markdown",
   "metadata": {},
   "source": [
    "Install `bs4` to use `BeautifulSoup`"
   ]
  },
  {
   "cell_type": "code",
   "execution_count": 3,
   "metadata": {},
   "outputs": [
    {
     "name": "stdout",
     "output_type": "stream",
     "text": [
      "Requirement already satisfied: bs4 in c:\\users\\liana\\appdata\\local\\programs\\python\\python38\\lib\\site-packages (0.0.1)\n",
      "Requirement already satisfied: beautifulsoup4 in c:\\users\\liana\\appdata\\local\\programs\\python\\python38\\lib\\site-packages (from bs4) (4.9.3)\n",
      "Requirement already satisfied: soupsieve>1.2 in c:\\users\\liana\\appdata\\local\\programs\\python\\python38\\lib\\site-packages (from beautifulsoup4->bs4) (2.2.1)\n"
     ]
    },
    {
     "name": "stderr",
     "output_type": "stream",
     "text": [
      "WARNING: You are using pip version 21.2.4; however, version 21.3 is available.\n",
      "You should consider upgrading via the 'C:\\Users\\liana\\AppData\\Local\\Programs\\Python\\Python38\\python.exe -m pip install --upgrade pip' command.\n"
     ]
    }
   ],
   "source": [
    "!pip install bs4"
   ]
  },
  {
   "cell_type": "markdown",
   "metadata": {},
   "source": [
    "Import all dependencies"
   ]
  },
  {
   "cell_type": "code",
   "execution_count": 4,
   "metadata": {},
   "outputs": [],
   "source": [
    "from transformers import pipeline\n",
    "from bs4 import BeautifulSoup\n",
    "import requests"
   ]
  },
  {
   "cell_type": "markdown",
   "metadata": {},
   "source": [
    "## 2. Setup Generator\n",
    "Get pipeline text summarization utility"
   ]
  },
  {
   "cell_type": "code",
   "execution_count": 5,
   "metadata": {},
   "outputs": [
    {
     "name": "stderr",
     "output_type": "stream",
     "text": [
      "No model was supplied, defaulted to sshleifer/distilbart-cnn-12-6 (https://huggingface.co/sshleifer/distilbart-cnn-12-6)\n"
     ]
    }
   ],
   "source": [
    "summarizer = pipeline('summarization')"
   ]
  },
  {
   "cell_type": "markdown",
   "metadata": {},
   "source": [
    "## 3. Process Input Text\n",
    "Get input from website URLs"
   ]
  },
  {
   "cell_type": "code",
   "execution_count": 6,
   "metadata": {},
   "outputs": [],
   "source": [
    "URL = 'https://en.wikipedia.org/wiki/Rococo'"
   ]
  },
  {
   "cell_type": "markdown",
   "metadata": {},
   "source": [
    "Get HTTP URL using `requests`"
   ]
  },
  {
   "cell_type": "code",
   "execution_count": 7,
   "metadata": {},
   "outputs": [],
   "source": [
    "r = requests.get(URL)"
   ]
  },
  {
   "cell_type": "markdown",
   "metadata": {},
   "source": [
    "Parse HTML body returned from the URL and format it to have a better readability"
   ]
  },
  {
   "cell_type": "code",
   "execution_count": 8,
   "metadata": {},
   "outputs": [],
   "source": [
    "soup = BeautifulSoup(r.text, 'html.parser')"
   ]
  },
  {
   "cell_type": "markdown",
   "metadata": {},
   "source": [
    "Find all text chunks with 'h1' and 'p' tags"
   ]
  },
  {
   "cell_type": "code",
   "execution_count": 9,
   "metadata": {},
   "outputs": [
    {
     "data": {
      "text/plain": [
       "[<h1 class=\"firstHeading\" id=\"firstHeading\">Rococo</h1>,\n",
       " <p class=\"mw-empty-elt\">\n",
       " </p>,\n",
       " <p><b>Rococo</b> (<span class=\"rt-commentedText nowrap\"><span class=\"IPA nopopups noexcerpt\"><a href=\"/wiki/Help:IPA/English\" title=\"Help:IPA/English\">/<span style=\"border-bottom:1px dotted\"><span title=\"'r' in 'rye'\">r</span><span title=\"/ə/: 'a' in 'about'\">ə</span><span title=\"/ˈ/: primary stress follows\">ˈ</span><span title=\"'k' in 'kind'\">k</span><span title=\"/oʊ/: 'o' in 'code'\">oʊ</span><span title=\"'k' in 'kind'\">k</span><span title=\"/oʊ/: 'o' in 'code'\">oʊ</span></span>/</a></span></span>, <small>also</small> <span class=\"rt-commentedText nowrap\"><small><a href=\"/wiki/American_English\" title=\"American English\">US</a>: </small><span class=\"IPA nopopups noexcerpt\"><a href=\"/wiki/Help:IPA/English\" title=\"Help:IPA/English\">/<span style=\"border-bottom:1px dotted\"><span title=\"/ˌ/: secondary stress follows\">ˌ</span><span title=\"'r' in 'rye'\">r</span><span title=\"/oʊ/: 'o' in 'code'\">oʊ</span><span title=\"'k' in 'kind'\">k</span><span title=\"/ə/: 'a' in 'about'\">ə</span><span title=\"/ˈ/: primary stress follows\">ˈ</span><span title=\"'k' in 'kind'\">k</span><span title=\"/oʊ/: 'o' in 'code'\">oʊ</span></span>/</a></span></span>), less commonly <b>Roccoco</b> or <b>Late Baroque</b>, is an exceptionally ornamental and theatrical style of architecture, art and decoration which combines asymmetry, scrolling curves, gilding, white and pastel colors, sculpted molding, and <i><a href=\"/wiki/Trompe-l%27%C5%93il\" title=\"Trompe-l'œil\">trompe-l'œil</a></i> frescoes to create surprise and the illusion of motion and drama.  It is often described as the final expression of the <a class=\"mw-redirect\" href=\"/wiki/Baroque_art\" title=\"Baroque art\">Baroque</a> movement.<sup class=\"reference\" id=\"cite_ref-FOOTNOTEHopkins201492_1-0\"><a href=\"#cite_note-FOOTNOTEHopkins201492-1\">[1]</a></sup>\n",
       " </p>]"
      ]
     },
     "execution_count": 9,
     "metadata": {},
     "output_type": "execute_result"
    }
   ],
   "source": [
    "results = soup.find_all(['h1', 'p'])\n",
    "results[:3]"
   ]
  },
  {
   "cell_type": "markdown",
   "metadata": {},
   "source": [
    "Text enclosed within the HTML tags are selected and joined together"
   ]
  },
  {
   "cell_type": "code",
   "execution_count": 10,
   "metadata": {},
   "outputs": [
    {
     "data": {
      "text/plain": [
       "\"Rococo \\n Rococo (/rəˈkoʊkoʊ/, also US: /ˌroʊkəˈkoʊ/), less commonly Roccoco or Late Baroque, is an exceptionally ornamental and theatrical style of architecture, art and decoration which combines asymmetry, scrolling curves, gilding, white and pastel colors, sculpted molding, and trompe-l'œil frescoes to create surprise and the illusion of motion and drama.  It is often described as the final expression of the Baroque movement.[1]\\n The Rococo style began in France in the 1730s as a reaction against the more formal and geometric Style Louis XIV. It was known as the style rocaille, or rocaille style.[2] It soon spread to other parts of Europe, particularly northern Italy, Austria, southern Germany, Central Europe and Russia.[3] It also came to influence the other arts, particularly sculpture, furniture, silverware, glassware, painting, music, and theatre.[4] Although originally a secular style primarily used for interiors of private residences the Rococo had a spiritual aspect to it whic\""
      ]
     },
     "execution_count": 10,
     "metadata": {},
     "output_type": "execute_result"
    }
   ],
   "source": [
    "text = [result.text for result in results]\n",
    "ARTICLE = ' '.join(text)\n",
    "ARTICLE[0:1000]"
   ]
  },
  {
   "cell_type": "markdown",
   "metadata": {},
   "source": [
    "## 4. Chunk text"
   ]
  },
  {
   "cell_type": "markdown",
   "metadata": {},
   "source": [
    "Append <eos> to punctuations that marks the end of a sentence\n",
    "<br />\n",
    "Without the <eos> tag, sentences will be split without any punctuation"
   ]
  },
  {
   "cell_type": "code",
   "execution_count": 11,
   "metadata": {},
   "outputs": [
    {
     "data": {
      "text/plain": [
       "[\"Rococo \\n Rococo (/rəˈkoʊkoʊ/, also US: /ˌroʊkəˈkoʊ/), less commonly Roccoco or Late Baroque, is an exceptionally ornamental and theatrical style of architecture, art and decoration which combines asymmetry, scrolling curves, gilding, white and pastel colors, sculpted molding, and trompe-l'œil frescoes to create surprise and the illusion of motion and drama.\",\n",
       " '  It is often described as the final expression of the Baroque movement.',\n",
       " '[1]\\n The Rococo style began in France in the 1730s as a reaction against the more formal and geometric Style Louis XIV.',\n",
       " ' It was known as the style rocaille, or rocaille style.',\n",
       " '[2] It soon spread to other parts of Europe, particularly northern Italy, Austria, southern Germany, Central Europe and Russia.',\n",
       " '[3] It also came to influence the other arts, particularly sculpture, furniture, silverware, glassware, painting, music, and theatre.',\n",
       " '[4] Although originally a secular style primarily used for interiors of private residences the Rococo had a spiritual aspect to it which led to its widespread use in church interiors, particularly in Central Europe, Portugal, and South America.',\n",
       " '[5]\\n The word rococo was first used as a humorous variation of the word rocaille.',\n",
       " '[6][7] Rocaille was originally a method of decoration, using pebbles, seashells and cement, which was often used to decorate grottoes and fountains since the Renaissance.',\n",
       " '[8][9] In the late 17th and early 18th century rocaille became the term for a kind of decorative motif or ornament that appeared in the late Style Louis XIV, in the form of a seashell interlaced with acanthus leaves.']"
      ]
     },
     "execution_count": 11,
     "metadata": {},
     "output_type": "execute_result"
    }
   ],
   "source": [
    "ARTICLE = ARTICLE.replace('.', '.<eos>')\n",
    "ARTICLE = ARTICLE.replace('!', '!<eos>')\n",
    "ARTICLE = ARTICLE.replace('?', '?<eos>')\n",
    "sentences = ARTICLE.split('<eos>')\n",
    "sentences[:10]"
   ]
  },
  {
   "cell_type": "markdown",
   "metadata": {},
   "source": [
    "Limit the size of text in a chunk so that it is smaller than 500 words\n",
    "<br />\n",
    "Split sentences into words (2D array)\n",
    "<br />\n",
    "This is to avoid the error as shown below\n",
    "```py\n",
    "Token indices sequence length is longer than the specified maximum sequence length for this model (1024). Running this sequence through the model will result in indexing errors.\n",
    "```"
   ]
  },
  {
   "cell_type": "code",
   "execution_count": 12,
   "metadata": {},
   "outputs": [
    {
     "name": "stdout",
     "output_type": "stream",
     "text": [
      "0\n",
      "A total of 12 chunks\n",
      "A total of 488 words in chunk[0]\n"
     ]
    }
   ],
   "source": [
    "max_chunk = 500\n",
    "current_chunk = 0\n",
    "chunks = []\n",
    "\n",
    "for sentence in sentences:\n",
    "    if len(chunks) == current_chunk + 1:\n",
    "        # Check if the chunk is less than 500 words\n",
    "        if len(chunks[current_chunk]) + len(sentence.split(' ')) <= max_chunk:\n",
    "            chunks[current_chunk].extend(sentence.split(' '))\n",
    "        # Next chunk\n",
    "        else:\n",
    "            current_chunk += 1\n",
    "            chunks.append(sentence.split(' '))\n",
    "    else:\n",
    "        print(current_chunk)\n",
    "        chunks.append(sentence.split(' '))\n",
    "\n",
    "print(\"A total of \" + str(current_chunk + 1) + \" chunks\")\n",
    "print(\"A total of \" + str(len(chunks[0])) + \" words in chunk[0]\")"
   ]
  },
  {
   "cell_type": "markdown",
   "metadata": {},
   "source": [
    "Append words into sentences again where each chunk is ensured to have less than 500 words"
   ]
  },
  {
   "cell_type": "code",
   "execution_count": 13,
   "metadata": {},
   "outputs": [
    {
     "name": "stdout",
     "output_type": "stream",
     "text": [
      "A total of 488 words in chunk[0]\n"
     ]
    }
   ],
   "source": [
    "for chunk_id in range (len(chunks)):\n",
    "    chunks[chunk_id] = ' '.join(chunks[chunk_id])\n",
    "\n",
    "print(\"A total of \" + str(len(chunks[0].split(' '))) + \" words in chunk[0]\")"
   ]
  },
  {
   "cell_type": "markdown",
   "metadata": {},
   "source": [
    "## 5. Summarise Text\n",
    "\n",
    "Summarise based on each chunk"
   ]
  },
  {
   "cell_type": "code",
   "execution_count": 14,
   "metadata": {},
   "outputs": [
    {
     "data": {
      "text/plain": [
       "[{'summary_text': ' The Rococo style began in France in the 1730s as a reaction against the more formal and geometric Style Louis XIV . It soon spread to other parts of Europe, particularly northern Italy, Austria, southern Germany, Central Europe and Russia . The term rococo was first used in print in 1825 to describe decoration which was \"out of style and old-fashioned\"'},\n",
       " {'summary_text': ' Rocaille style, or French Rococo, appeared in Paris during the reign of Louis XV, and flourished between about 1723 and 1759 . Main ornaments of Rococo are: asymmetrical shells, acanthus and other leaves, birds, bouquets of flowers, fruits, musical instruments, angels and Chinoiserie (pagodas, dragons, monkeys, bizarre flowers and Chinese people) The style integrated painting, molded stucco, and wood carving, and quadratura, or illusionist ceiling paintings .'},\n",
       " {'summary_text': ' Rococo decorative style reached its summit in southern Germany and Austria from the 1730s until the 1770s . Notable decorative painters included Giovanni Battista Tiepolo, who painted ceilings and murals of both churches and palazzos . The Venetian Rococo also featured exceptional glassware, particularly Murano glass, often engraved and coloured, which was exported across Europe .'},\n",
       " {'summary_text': ' The Belgian-born architect and designer François de Cuvilliés was one of the first to create a Rococo building in Germany . The pavilion of Amalienburg in Munich, (1734-1739) inspired by the pavilions of the Trianon and Marly in France . The Hall of Mirrors in the interior, by the painter and stucco sculptor Johann Baptist Zimmermann, was far more exuberant than any French Rococo . Another notable example of the early German Rococo is Würzburg Residence .'},\n",
       " {'summary_text': ' In Great Britain, rococo was called the \"French taste\" and had less influence on design and the decorative arts than in continental Europe . William Hogarth helped develop a theoretical foundation for Rococo beauty . Mahogany made its appearance in England in about 1720, and became popular for furniture, along with walnut wood .'},\n",
       " {'summary_text': ' The ornamental style called rocaille emerged in France between 1710 and 1750, mostly during the regency and reign of Louis XV . Its principal characteristics were picturesque detail, curves and counter-curves, asymmetry, and a theatrical exuberance . By 1785, Rococo had passed out of fashion in France, replaced by the order and seriousness of Neoclassical artists like Jacques-Louis David .'},\n",
       " {'summary_text': ' Craftsmen in Rome, Milan and Venice all produced lavishly decorated furniture and decorative items . The most extravagant rocaille forms were found in the consoles, tables designed to stand against walls . The period also saw the arrival of Chinoiserie, often in the form of lacquered and gilded commodes .'},\n",
       " {'summary_text': ' The successor of Watteau and the Féte Galante in decorative painting was François Boucher, the favorite painter of Madame de Pompadour . The Pilgrimage to Cythera painting was purchased by Frederick the Great of Prussia in 1752 or 1765 to decorate his palace of Charlottenberg in Berlin . The style particularly influenced François Lemoyne, who painted the lavish decoration of the ceiling of the Salon of Hercules at the Palace of Versailles .'},\n",
       " {'summary_text': ' The most elaborate examples of rococo sculpture were found in Spain, Austria and southern Germany, in the decoration of palaces and churches . A new form of small-scale sculpture appeared, the porcelain figure, or small group of figures, initially replacing sugar sculptures on grand dining room tables, but soon popular for mantelpieces and furniture .'},\n",
       " {'summary_text': ' Rococo period existed in music history, although it is not as well known as the earlier Baroque and later Classical forms . Rococo fashion was based on extravagance, elegance, refinement and decoration . In the second half of the 18th century, a reaction against the Rococo style occurred . Led by Christoph Willibald Gluck, this reaction ushered in the Classical era .'},\n",
       " {'summary_text': ' After the death of Louis XIV the clothing styles began to change . The fashion took a turn to a lighter, more frivolous style, transitioning from the baroque period to the well-known style of Rococo . The later period was known for their pastel colours, more revealing frocks and the plethora of frills, ruffles, bows, and lace as trims .'},\n",
       " {'summary_text': ' The bodice had a snug bodice, a full skirt without panniers but still a little long in the back to form a small train, and lace kerchief worn around the neck . Accessories were also important to all women during this time, as they added to the opulence and the decor of the body to match their gowns .'}]"
      ]
     },
     "execution_count": 14,
     "metadata": {},
     "output_type": "execute_result"
    }
   ],
   "source": [
    "res = summarizer(chunks,return_text=\"True\")\n",
    "res"
   ]
  },
  {
   "cell_type": "code",
   "execution_count": 37,
   "metadata": {},
   "outputs": [
    {
     "name": "stdout",
     "output_type": "stream",
     "text": [
      "# summary_text\n",
      "\n",
      "-  The Rococo style began in France in the 1730s as a reaction against the more formal and geometric Style Louis XIV . It soon spread to other parts of Europe, particularly northern Italy, Austria, southern Germany, Central Europe and Russia . The term rococo was first used in print in 1825 to describe decoration which was \"out of style and old-fashioned\"\n",
      "- Rocaille style, or French Rococo, appeared in Paris during the reign of Louis XV, and flourished between about 1723 and 1759 . Main ornaments of Rococo are: asymmetrical shells, acanthus and other leaves, birds, bouquets of flowers, fruits, musical instruments, angels and Chinoiserie (pagodas, dragons, monkeys, bizarre flowers and Chinese people) The style integrated painting, molded stucco, and wood carving, and quadratura, or illusionist ceiling paintings .\n",
      "- Rococo decorative style reached its summit in southern Germany and Austria from the 1730s until the 1770s . Notable decorative painters included Giovanni Battista Tiepolo, who painted ceilings and murals of both churches and palazzos . The Venetian Rococo also featured exceptional glassware, particularly Murano glass, often engraved and coloured, which was exported across Europe .\n",
      "\n",
      "---\n",
      "\n",
      "# summary_text\n",
      "\n",
      "-  In Great Britain, rococo was called the \"French taste\" and had less influence on design and the decorative arts than in continental Europe . William Hogarth helped develop a theoretical foundation for Rococo beauty . Mahogany made its appearance in England in about 1720, and became popular for furniture, along with walnut wood .\n",
      "- The ornamental style called rocaille emerged in France between 1710 and 1750, mostly during the regency and reign of Louis XV . Its principal characteristics were picturesque detail, curves and counter-curves, asymmetry, and a theatrical exuberance . By 1785, Rococo had passed out of fashion in France, replaced by the order and seriousness of Neoclassical artists like Jacques-Louis David .\n",
      "- Craftsmen in Rome, Milan and Venice all produced lavishly decorated furniture and decorative items . The most extravagant rocaille forms were found in the consoles, tables designed to stand against walls . The period also saw the arrival of Chinoiserie, often in the form of lacquered and gilded commodes .\n",
      "\n",
      "---\n",
      "\n",
      "# summary_text\n",
      "\n",
      "-  The most elaborate examples of rococo sculpture were found in Spain, Austria and southern Germany, in the decoration of palaces and churches . A new form of small-scale sculpture appeared, the porcelain figure, or small group of figures, initially replacing sugar sculptures on grand dining room tables, but soon popular for mantelpieces and furniture .\n",
      "- Rococo period existed in music history, although it is not as well known as the earlier Baroque and later Classical forms . Rococo fashion was based on extravagance, elegance, refinement and decoration . In the second half of the 18th century, a reaction against the Rococo style occurred . Led by Christoph Willibald Gluck, this reaction ushered in the Classical era .\n",
      "- After the death of Louis XIV the clothing styles began to change . The fashion took a turn to a lighter, more frivolous style, transitioning from the baroque period to the well-known style of Rococo . The later period was known for their pastel colours, more revealing frocks and the plethora of frills, ruffles, bows, and lace as trims .\n",
      "\n",
      "---\n",
      "\n",
      "\n"
     ]
    }
   ],
   "source": [
    "md = \"\" # Markdown output to be fed into slide generator\n",
    "txt = \"\"\n",
    "for result in res:\n",
    "    for head, val in result.items():\n",
    "        if(len(txt) == 0):\n",
    "            md += \"# \" + head + \"\\n\\n- \" + val\n",
    "            txt += val\n",
    "        elif(len(txt) < 1000 and result != res[-1]): # If the number of characters on a slide exceeds 1000, create new slide\n",
    "            md += \"\\n-\" + val\n",
    "            txt += val\n",
    "        else:\n",
    "            md += \"\\n\\n---\\n\\n\"\n",
    "            txt = \"\"\n",
    "\n",
    "print(md)\n",
    "    "
   ]
  },
  {
   "cell_type": "markdown",
   "metadata": {},
   "source": [
    "## 6. Formatting Text\n",
    "Preprocessing: format the `dict` object into a `string`."
   ]
  },
  {
   "cell_type": "code",
   "execution_count": null,
   "metadata": {},
   "outputs": [],
   "source": [
    "summary = ''\n",
    "for result in res:\n",
    "    summary += ''.join(str(val[1:]) + \"\\n\" for _, val in result.items())\n",
    "\n",
    "summary = summary.replace(' .', '.')\n",
    "summary = summary.replace(\" !\", \"!\")\n",
    "summary = summary.replace(\" ?\", \"?\")"
   ]
  },
  {
   "cell_type": "markdown",
   "metadata": {},
   "source": [
    "## 7. Results\n",
    "\n",
    "Some statistics and the final result."
   ]
  },
  {
   "cell_type": "code",
   "execution_count": null,
   "metadata": {},
   "outputs": [
    {
     "name": "stdout",
     "output_type": "stream",
     "text": [
      "Number of words in summary: 663\n",
      "Number of words in original article: 37336\n",
      "Reduced by: 98.22%\n",
      "\n",
      "The Rococo style began in France in the 1730s as a reaction against the more formal and geometric Style Louis XIV. It soon spread to other parts of Europe, particularly northern Italy, Austria, southern Germany, Central Europe and Russia. The term rococo was first used in print in 1825 to describe decoration which was \"out of style and old-fashioned\"\n",
      "Rocaille style, or French Rococo, appeared in Paris during the reign of Louis XV. Main ornaments of Rococo are: asymmetrical shells, acanthus and other leaves, birds, bouquets of flowers, fruits, musical instruments, angels and Far Eastern elements. The style often integrated painting, molded stucco, and wood carving, and quadratura, or illusionist ceiling paintings.\n",
      "Rococo decorative style reached its summit in southern Germany and Austria from the 1730s until the 1770s. Notable decorative painters included Giovanni Battista Tiepolo, who painted ceilings and murals of both churches and palazzos. The Venetian Rococo also featured exceptional glassware, particularly Murano glass, often engraved and coloured, which was exported across Europe.\n",
      "The Belgian-born architect and designer François de Cuvilliés was one of the first to create a Rococo building in Germany, with the pavilion of Amalienburg in Munich, (1734-1739) The Hall of Mirrors in the interior, by the painter and stucco sculptor Johann Baptist Zimmermann, was far more exuberant than any French Rococo. Another notable example of the early German Rococo is Würzburg Residence (1737–1744) constructed for the Prince-Bishop of Würzhburg by Balthasar Neumann.\n",
      "In Great Britain, rococo was called the \"French taste\" and had less influence on design and the decorative arts than in continental Europe. William Hogarth helped develop a theoretical foundation for Rococo beauty. Mahogany made its appearance in England in about 1720, and immediately became popular for furniture.\n",
      "The ornamental style called rocaille emerged in France between 1710 and 1750, mostly during the regency and reign of Louis XV. Its principal characteristics were picturesque detail, curves and counter-curves, asymmetry, and a theatrical exuberance. By 1785, Rococo had passed out of fashion in France, replaced by the order and seriousness of Neoclassical artists like Jacques-Louis David.\n",
      "Craftsmen in Rome, Milan and Venice all produced lavishly decorated furniture and decorative items. The most extravagant rocaille forms were found in the consoles, tables designed to stand against walls. The period also saw the arrival of Chinoiserie, often in the form of lacquered and gilded commodes.\n",
      "The successor of Watteau and the Féte Galante in decorative painting was François Boucher, the favorite painter of Madame de Pompadour. The Pilgrimage to Cythera painting was purchased by Frederick the Great of Prussia in 1752 or 1765 to decorate his palace of Charlottenberg in Berlin. The style particularly influenced François Lemoyne, who painted the lavish decoration of the ceiling of the Salon of Hercules at the Palace of Versailles.\n",
      "Rococo figures crowded the later fountains at Versailles, such as the Fountain of Neptune by Lambert-Sigisbert Adam and Nicolas-Sebastien Adam. The most elaborate examples of rococo sculpture were found in Spain, Austria and southern Germany, in the decoration of palaces and churches.\n",
      "Rococo period existed in music history, although it is not as well known as the earlier Baroque and later Classical forms. Rococo fashion was based on extravagance, elegance, refinement and decoration. In the second half of the 18th century, a reaction against the Rococo style occurred. Led by Christoph Willibald Gluck, this reaction ushered in the Classical era.\n",
      "After the death of Louis XIV the clothing styles began to change. The fashion took a turn to a lighter, more frivolous style, transitioning from the baroque period to the well-known style of Rococo. The later period was known for their pastel colours, more revealing frocks and the plethora of frills, ruffles, bows, and lace as trims.\n",
      "The bodice had a snug bodice, a full skirt without panniers but still a little long in the back to form a small train, and lace kerchief worn around the neck. Accessories were also important to all women during this time, as they added to the opulence and the decor of the body to match their gowns.\n",
      "\n"
     ]
    }
   ],
   "source": [
    "words_after = len(summary.split(' '))\n",
    "words_before = len(ARTICLE)\n",
    "reduced_by = (words_before - words_after) / words_before * 100\n",
    "\n",
    "print(\"Number of words in summary: \" + str(words_after))\n",
    "print(\"Number of words in original article: \" + str(words_before))\n",
    "print(\"Reduced by: \" + str(round(reduced_by, 2)) + \"%\\n\")\n",
    "print(summary)"
   ]
  }
 ],
 "metadata": {
  "interpreter": {
   "hash": "37833eaa7c79fc29fc64cdd65cef9244dd84f1f67a5ba8cd87f16f157512cb2c"
  },
  "kernelspec": {
   "display_name": "Python 3.8.10 64-bit",
   "name": "python3"
  },
  "language_info": {
   "codemirror_mode": {
    "name": "ipython",
    "version": 3
   },
   "file_extension": ".py",
   "mimetype": "text/x-python",
   "name": "python",
   "nbconvert_exporter": "python",
   "pygments_lexer": "ipython3",
   "version": "3.8.10"
  },
  "orig_nbformat": 4
 },
 "nbformat": 4,
 "nbformat_minor": 2
}
